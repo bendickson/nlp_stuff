{
 "cells": [
  {
   "cell_type": "code",
   "execution_count": 2,
   "metadata": {},
   "outputs": [
    {
     "name": "stdout",
     "output_type": "stream",
     "text": [
      "Hieroglyphic writing dates from c. 3000 BC, and is composed of hundreds of symbols. A hieroglyph can represent a word, a sound, or a silent determinative; and the same symbol can serve different purposes in different contexts. Hieroglyphs were a formal script, used on stone monuments and in tombs, that could be as detailed as individual works of art.\n",
      "\n"
     ]
    }
   ],
   "source": [
    "import os\n",
    "\n",
    "# read plain text file\n",
    "with open(os.path.join(\"data\", \"hieroglyph.txt\"), \"r\") as f:\n",
    "    text = f.read()\n",
    "    print(text)"
   ]
  },
  {
   "cell_type": "code",
   "execution_count": 3,
   "metadata": {},
   "outputs": [],
   "source": [
    "# import pandas as pd\n",
    "\n",
    "# # Extract text column from a dataframe\n",
    "# df = pd.read_csv(os.path.join(\"data\", \"news.csv\"))\n",
    "# df.head()[['publisher', 'title']]\n",
    "\n",
    "# # Convert text column to lowercase\n",
    "# df['title'] = df['title'].str.lower()\n",
    "# df.head()[['publisher', 'title']]"
   ]
  },
  {
   "cell_type": "code",
   "execution_count": 4,
   "metadata": {},
   "outputs": [
    {
     "name": "stdout",
     "output_type": "stream",
     "text": [
      "{\n",
      "    \"success\": {\n",
      "        \"total\": 1\n",
      "    },\n",
      "    \"contents\": {\n",
      "        \"quotes\": [\n",
      "            {\n",
      "                \"quote\": \"It isn\\u2019t the mountains ahead to climb that wear you out; it\\u2019s the pebble in your shoe.\",\n",
      "                \"length\": null,\n",
      "                \"author\": \"Mohamad Ali\",\n",
      "                \"tags\": [\n",
      "                    \"being-prepared\",\n",
      "                    \"inspire\"\n",
      "                ],\n",
      "                \"category\": \"inspire\",\n",
      "                \"date\": \"2019-03-18\",\n",
      "                \"permalink\": \"https://theysaidso.com/quote/rPWAzQihKSz_lEDf7VW2mQeF/mohamad-ali-it-isnt-the-mountains-ahead-to-climb-that-wear-you-out-its-the-pebbl\",\n",
      "                \"title\": \"Inspiring Quote of the day\",\n",
      "                \"background\": \"https://theysaidso.com/img/bgs/man_on_the_mountain.jpg\",\n",
      "                \"id\": \"rPWAzQihKSz_lEDf7VW2mQeF\"\n",
      "            }\n",
      "        ],\n",
      "        \"copyright\": \"2017-19 theysaidso.com\"\n",
      "    }\n",
      "}\n",
      "It isn’t the mountains ahead to climb that wear you out; it’s the pebble in your shoe. \n",
      "-- Mohamad Ali\n"
     ]
    }
   ],
   "source": [
    "# online resource\n",
    "import requests\n",
    "import json\n",
    "\n",
    "# Fetch data from a REST API\n",
    "r = requests.get(\n",
    "    \"https://quotes.rest/qod.json\")\n",
    "res = r.json()\n",
    "print(json.dumps(res, indent=4))\n",
    "\n",
    "# Extract relevant object and field\n",
    "q = res[\"contents\"][\"quotes\"][0]\n",
    "print(q[\"quote\"], \"\\n--\", q[\"author\"])"
   ]
  },
  {
   "cell_type": "code",
   "execution_count": 9,
   "metadata": {},
   "outputs": [
    {
     "name": "stdout",
     "output_type": "stream",
     "text": [
      "<html op=\"news\"><head><meta name=\"referrer\" content=\"origin\"><meta name=\"viewport\" content=\"width=device-width, initial-scale=1.0\"><link rel=\"stylesheet\" type=\"text/css\" href=\"news.css?wRwy7xNrRA8iSr8OOZLh\">\n",
      "            <link rel=\"shortcut icon\" href=\"favicon.ico\">\n",
      "          <link rel=\"alternate\" type=\"application/rss+xml\" title=\"RSS\" href=\"rss\">\n",
      "        <title>Hacker News</title></head><body><center><table id=\"hnmain\" border=\"0\" cellpadding=\"0\" cellspacing=\"0\" width=\"85%\" bgcolor=\"#f6f6ef\">\n",
      "        <tr><td bgcolor=\"#ff6600\"><table border=\"0\" cellpadding=\"0\" cellspacing=\"0\" width=\"100%\" style=\"padding:2px\"><tr><td style=\"width:18px;padding-right:4px\"><a href=\"https://news.ycombinator.com\"><img src=\"y18.gif\" width=\"18\" height=\"18\" style=\"border:1px white solid;\"></a></td>\n",
      "                  <td style=\"line-height:12pt; height:10px;\"><span class=\"pagetop\"><b class=\"hnname\"><a href=\"news\">Hacker News</a></b>\n",
      "              <a href=\"newest\">new</a> | <a href=\"front\">past</a> | <a href=\"newcomments\">comments</a> | <a href=\"ask\">ask</a> | <a href=\"show\">show</a> | <a href=\"jobs\">jobs</a> | <a href=\"submit\">submit</a>            </span></td><td style=\"text-align:right;padding-right:4px;\"><span class=\"pagetop\">\n",
      "                              <a href=\"login?goto=news\">login</a>\n",
      "                          </span></td>\n",
      "              </tr></table></td></tr>\n",
      "<tr id=\"pagespace\" title=\"\" style=\"height:10px\"></tr><tr><td><table border=\"0\" cellpadding=\"0\" cellspacing=\"0\" class=\"itemlist\">\n",
      "              <tr class='athing' id='19419279'>\n",
      "      <td align=\"right\" valign=\"top\" class=\"title\"><span class=\"rank\">1.</span></td>      <td valign=\"top\" class=\"votelinks\"><center><a id='up_19419279' href='vote?id=19419279&amp;how=up&amp;goto=news'><div class='votearrow' title='upvote'></div></a></center></td><td class=\"title\"><a href=\"https://www.bbc.co.uk/news/science-environment-47585433\" class=\"storylink\">Air-breathing rocket engine set for key tests</a><span class=\"sitebit comhead\"> (<a href=\"from?site=bbc.co.uk\"><span class=\"sitestr\">bbc.co.uk</span></a>)</span></td></tr><tr><td colspan=\"2\"></td><td class=\"subtext\">\n",
      "        <span class=\"score\" id=\"score_19419279\">53 points</span> by <a href=\"user?id=sambeau\" class=\"hnuser\">sambeau</a> <span class=\"age\"><a href=\"item?id=19419279\">2 hours ago</a></span> <span id=\"unv_19419279\"></span> | <a href=\"hide?id=19419279&amp;goto=news\">hide</a> | <a href=\"item?id=19419279\">29&nbsp;comments</a>              </td></tr>\n",
      "      <tr class=\"spacer\" style=\"height:5px\"></tr>\n",
      "                <tr class='athing' id='19419732'>\n",
      "      <td align=\"right\" valign=\"top\" class=\"title\"><span class=\"rank\">2.</span></td>      <td valign=\"top\" class=\"votelinks\"><center><a id='up_19419732' href='vote?id=19419732&amp;how=up&amp;goto=news'><div class='votearrow' title='upvote'></div></a></center></td><td class=\"title\"><a href=\"https://spreadprivacy.com/how-to-remove-google/\" class=\"storylink\" rel=\"nofollow\">How to Live Without Google (2017)</a><span class=\"sitebit comhead\"> (<a href=\"from?site=spreadprivacy.com\"><span class=\"sitestr\">spreadprivacy.com</span></a>)</span></td></tr><tr><td colspan=\"2\"></td><td class=\"subtext\">\n",
      "        <span class=\"score\" id=\"score_19419732\">7 points</span> by <a href=\"user?id=deathwarmedover\" class=\"hnuser\">deathwarmedover</a> <span class=\"age\"><a href=\"item?id=19419732\">22 minutes ago</a></span> <span id=\"unv_19419732\"></span> | <a href=\"hide?id=19419732&amp;goto=news\">hide</a> | <a href=\"item?id=19419732\">1&nbsp;comment</a>              </td></tr>\n",
      "      <tr class=\"spacer\" style=\"height:5px\"></tr>\n",
      "                <tr class='athing' id='19419025'>\n",
      "      <td align=\"right\" valign=\"top\" class=\"title\"><span class=\"rank\">3.</span></td>      <td valign=\"top\" class=\"votelinks\"><center><a id='up_19419025' href='vote?id=19419025&amp;how=up&amp;goto=news'><div class='votearrow' title='upvote'></div></a></center></td><td class=\"title\"><a href=\"http://jena.apache.org\" class=\"storylink\">Apache Jena</a><span class=\"sitebit comhead\"> (<a href=\"from?site=apache.org\"><span class=\"sitestr\">apache.org</span></a>)</span></td></tr><tr><td colspan=\"2\"></td><td class=\"subtext\">\n",
      "        <span class=\"score\" id=\"score_19419025\">40 points</span> by <a href=\"user?id=pplonski86\" class=\"hnuser\">pplonski86</a> <span class=\"age\"><a href=\"item?id=19419025\">3 hours ago</a></span> <span id=\"unv_19419025\"></span> | <a href=\"hide?id=19419025&amp;goto=news\">hide</a> | <a href=\"item?id=19419025\">23&nbsp;comments</a>              </td></tr>\n",
      "      <tr class=\"spacer\" style=\"height:5px\"></tr>\n",
      "                <tr class='athing' id='19418570'>\n",
      "      <td align=\"right\" valign=\"top\" class=\"title\"><span class=\"rank\">4.</span></td>      <td valign=\"top\" class=\"votelinks\"><center><a id='up_19418570' href='vote?id=19418570&amp;how=up&amp;goto=news'><div class='votearrow' title='upvote'></div></a></center></td><td class=\"title\"><a href=\"https://cs.nyu.edu/cs/faculty/shasha/papers/tutorial\" class=\"storylink\">K7 Tutorial</a><span class=\"sitebit comhead\"> (<a href=\"from?site=nyu.edu\"><span class=\"sitestr\">nyu.edu</span></a>)</span></td></tr><tr><td colspan=\"2\"></td><td class=\"subtext\">\n",
      "        <span class=\"score\" id=\"score_19418570\">92 points</span> by <a href=\"user?id=chrispsn\" class=\"hnuser\">chrispsn</a> <span class=\"age\"><a href=\"item?id=19418570\">6 hours ago</a></span> <span id=\"unv_19418570\"></span> | <a href=\"hide?id=19418570&amp;goto=news\">hide</a> | <a href=\"item?id=19418570\">23&nbsp;comments</a>              </td></tr>\n",
      "      <tr class=\"spacer\" style=\"height:5px\"></tr>\n",
      "                <tr class='athing' id='19418770'>\n",
      "      <td align=\"right\" valign=\"top\" class=\"title\"><span class=\"rank\">5.</span></td>      <td valign=\"top\" class=\"votelinks\"><center><a id='up_19418770' href='vote?id=19418770&amp;how=up&amp;goto=news'><div class='votearrow' title='upvote'></div></a></center></td><td class=\"title\"><a href=\"https://github.com/adeshpande3/March-Madness-ML\" class=\"storylink\">Show HN: Applying Machine Learning to March Madness</a><span class=\"sitebit comhead\"> (<a href=\"from?site=github.com\"><span class=\"sitestr\">github.com</span></a>)</span></td></tr><tr><td colspan=\"2\"></td><td class=\"subtext\">\n",
      "        <span class=\"score\" id=\"score_19418770\">39 points</span> by <a href=\"user?id=adeshpande3\" class=\"hnuser\">adeshpande3</a> <span class=\"age\"><a href=\"item?id=19418770\">5 hours ago</a></span> <span id=\"unv_19418770\"></span> | <a href=\"hide?id=19418770&amp;goto=news\">hide</a> | <a href=\"item?id=19418770\">4&nbsp;comments</a>              </td></tr>\n",
      "      <tr class=\"spacer\" style=\"height:5px\"></tr>\n",
      "                <tr class='athing' id='19415983'>\n",
      "      <td align=\"right\" valign=\"top\" class=\"title\"><span class=\"rank\">6.</span></td>      <td valign=\"top\" class=\"votelinks\"><center><a id='up_19415983' href='vote?id=19415983&amp;how=up&amp;goto=news'><div class='votearrow' title='upvote'></div></a></center></td><td class=\"title\"><a href=\"http://www.purl.org/stefan_ram/pub/doc_kay_oop_en\" class=\"storylink\">Alan Kay on the Meaning of “Object-Oriented Programming” (2003)</a><span class=\"sitebit comhead\"> (<a href=\"from?site=purl.org\"><span class=\"sitestr\">purl.org</span></a>)</span></td></tr><tr><td colspan=\"2\"></td><td class=\"subtext\">\n",
      "        <span class=\"score\" id=\"score_19415983\">315 points</span> by <a href=\"user?id=tosh\" class=\"hnuser\">tosh</a> <span class=\"age\"><a href=\"item?id=19415983\">14 hours ago</a></span> <span id=\"unv_19415983\"></span> | <a href=\"hide?id=19415983&amp;goto=news\">hide</a> | <a href=\"item?id=19415983\">225&nbsp;comments</a>              </td></tr>\n",
      "      <tr class=\"spacer\" style=\"height:5px\"></tr>\n",
      "                <tr class='athing' id='19418543'>\n",
      "      <td align=\"right\" valign=\"top\" class=\"title\"><span class=\"rank\">7.</span></td>      <td valign=\"top\" class=\"votelinks\"><center><a id='up_19418543' href='vote?id=19418543&amp;how=up&amp;goto=news'><div class='votearrow' title='upvote'></div></a></center></td><td class=\"title\"><a href=\"https://www.wsj.com/articles/faas-737-max-approval-is-probed-11552868400\" class=\"storylink\">US Department of Transportation Investigating FAA's Approval of 737 MAX</a><span class=\"sitebit comhead\"> (<a href=\"from?site=wsj.com\"><span class=\"sitestr\">wsj.com</span></a>)</span></td></tr><tr><td colspan=\"2\"></td><td class=\"subtext\">\n",
      "        <span class=\"score\" id=\"score_19418543\">45 points</span> by <a href=\"user?id=mehrdadn\" class=\"hnuser\">mehrdadn</a> <span class=\"age\"><a href=\"item?id=19418543\">6 hours ago</a></span> <span id=\"unv_19418543\"></span> | <a href=\"hide?id=19418543&amp;goto=news\">hide</a> | <a href=\"item?id=19418543\">7&nbsp;comments</a>              </td></tr>\n",
      "      <tr class=\"spacer\" style=\"height:5px\"></tr>\n",
      "                <tr class='athing' id='19416678'>\n",
      "      <td align=\"right\" valign=\"top\" class=\"title\"><span class=\"rank\">8.</span></td>      <td valign=\"top\" class=\"votelinks\"><center><a id='up_19416678' href='vote?id=19416678&amp;how=up&amp;goto=news'><div class='votearrow' title='upvote'></div></a></center></td><td class=\"title\"><a href=\"https://matrix.org/blog/2019/03/15/matrix-1-0-https-arewereadyyet-com/\" class=\"storylink\">Matrix 1.0 – Are We Ready Yet?</a><span class=\"sitebit comhead\"> (<a href=\"from?site=matrix.org\"><span class=\"sitestr\">matrix.org</span></a>)</span></td></tr><tr><td colspan=\"2\"></td><td class=\"subtext\">\n",
      "        <span class=\"score\" id=\"score_19416678\">199 points</span> by <a href=\"user?id=jaywink\" class=\"hnuser\">jaywink</a> <span class=\"age\"><a href=\"item?id=19416678\">12 hours ago</a></span> <span id=\"unv_19416678\"></span> | <a href=\"hide?id=19416678&amp;goto=news\">hide</a> | <a href=\"item?id=19416678\">76&nbsp;comments</a>              </td></tr>\n",
      "      <tr class=\"spacer\" style=\"height:5px\"></tr>\n",
      "                <tr class='athing' id='19417619'>\n",
      "      <td align=\"right\" valign=\"top\" class=\"title\"><span class=\"rank\">9.</span></td>      <td valign=\"top\" class=\"votelinks\"><center><a id='up_19417619' href='vote?id=19417619&amp;how=up&amp;goto=news'><div class='votearrow' title='upvote'></div></a></center></td><td class=\"title\"><a href=\"https://atlas.cern/updates/physics-briefing/atlas-observes-light-scattering-light\" class=\"storylink\">Atlas observes light scattering off light</a><span class=\"sitebit comhead\"> (<a href=\"from?site=atlas.cern\"><span class=\"sitestr\">atlas.cern</span></a>)</span></td></tr><tr><td colspan=\"2\"></td><td class=\"subtext\">\n",
      "        <span class=\"score\" id=\"score_19417619\">110 points</span> by <a href=\"user?id=ars\" class=\"hnuser\">ars</a> <span class=\"age\"><a href=\"item?id=19417619\">10 hours ago</a></span> <span id=\"unv_19417619\"></span> | <a href=\"hide?id=19417619&amp;goto=news\">hide</a> | <a href=\"item?id=19417619\">17&nbsp;comments</a>              </td></tr>\n",
      "      <tr class=\"spacer\" style=\"height:5px\"></tr>\n",
      "                <tr class='athing' id='19416485'>\n",
      "      <td align=\"right\" valign=\"top\" class=\"title\"><span class=\"rank\">10.</span></td>      <td valign=\"top\" class=\"votelinks\"><center><a id='up_19416485' href='vote?id=19416485&amp;how=up&amp;goto=news'><div class='votearrow' title='upvote'></div></a></center></td><td class=\"title\"><a href=\"http://web.mit.edu/~simsong/www/ugh.pdf\" class=\"storylink\">The Unix-Haters Handbook (1994) [pdf]</a><span class=\"sitebit comhead\"> (<a href=\"from?site=mit.edu\"><span class=\"sitestr\">mit.edu</span></a>)</span></td></tr><tr><td colspan=\"2\"></td><td class=\"subtext\">\n",
      "        <span class=\"score\" id=\"score_19416485\">210 points</span> by <a href=\"user?id=imran3740\" class=\"hnuser\">imran3740</a> <span class=\"age\"><a href=\"item?id=19416485\">13 hours ago</a></span> <span id=\"unv_19416485\"></span> | <a href=\"hide?id=19416485&amp;goto=news\">hide</a> | <a href=\"item?id=19416485\">95&nbsp;comments</a>              </td></tr>\n",
      "      <tr class=\"spacer\" style=\"height:5px\"></tr>\n",
      "                <tr class='athing' id='19412667'>\n",
      "      <td align=\"right\" valign=\"top\" class=\"title\"><span class=\"rank\">11.</span></td>      <td valign=\"top\" class=\"votelinks\"><center><a id='up_19412667' href='vote?id=19412667&amp;how=up&amp;goto=news'><div class='votearrow' title='upvote'></div></a></center></td><td class=\"title\"><a href=\"https://www.microsoft.com/en-us/research/uploads/prod/2019/03/ho-haskell-5c8bb4918a4de.pdf\" class=\"storylink\">Higher-Order Type-Level Programming in Haskell [pdf]</a><span class=\"sitebit comhead\"> (<a href=\"from?site=microsoft.com\"><span class=\"sitestr\">microsoft.com</span></a>)</span></td></tr><tr><td colspan=\"2\"></td><td class=\"subtext\">\n",
      "        <span class=\"score\" id=\"score_19412667\">118 points</span> by <a href=\"user?id=justinhj\" class=\"hnuser\">justinhj</a> <span class=\"age\"><a href=\"item?id=19412667\">11 hours ago</a></span> <span id=\"unv_19412667\"></span> | <a href=\"hide?id=19412667&amp;goto=news\">hide</a> | <a href=\"item?id=19412667\">11&nbsp;comments</a>              </td></tr>\n",
      "      <tr class=\"spacer\" style=\"height:5px\"></tr>\n",
      "                <tr class='athing' id='19415765'>\n",
      "      <td align=\"right\" valign=\"top\" class=\"title\"><span class=\"rank\">12.</span></td>      <td valign=\"top\" class=\"votelinks\"><center><a id='up_19415765' href='vote?id=19415765&amp;how=up&amp;goto=news'><div class='votearrow' title='upvote'></div></a></center></td><td class=\"title\"><a href=\"https://sanctum.geek.nz/arabesque/vim-anti-patterns/\" class=\"storylink\">Vim Anti-Patterns (2012)</a><span class=\"sitebit comhead\"> (<a href=\"from?site=sanctum.geek.nz\"><span class=\"sitestr\">sanctum.geek.nz</span></a>)</span></td></tr><tr><td colspan=\"2\"></td><td class=\"subtext\">\n",
      "        <span class=\"score\" id=\"score_19415765\">299 points</span> by <a href=\"user?id=lelf\" class=\"hnuser\">lelf</a> <span class=\"age\"><a href=\"item?id=19415765\">14 hours ago</a></span> <span id=\"unv_19415765\"></span> | <a href=\"hide?id=19415765&amp;goto=news\">hide</a> | <a href=\"item?id=19415765\">172&nbsp;comments</a>              </td></tr>\n",
      "      <tr class=\"spacer\" style=\"height:5px\"></tr>\n",
      "                <tr class='athing' id='19418782'>\n",
      "      <td align=\"right\" valign=\"top\" class=\"title\"><span class=\"rank\">13.</span></td>      <td valign=\"top\" class=\"votelinks\"><center><a id='up_19418782' href='vote?id=19418782&amp;how=up&amp;goto=news'><div class='votearrow' title='upvote'></div></a></center></td><td class=\"title\"><a href=\"https://danlebrero.com/2017/04/06/documenting-your-architecture-wireshark-plantuml-and-a-repl/\" class=\"storylink\">Documenting your architecture: Wireshark, PlantUML and a REPL to glue them all</a><span class=\"sitebit comhead\"> (<a href=\"from?site=danlebrero.com\"><span class=\"sitestr\">danlebrero.com</span></a>)</span></td></tr><tr><td colspan=\"2\"></td><td class=\"subtext\">\n",
      "        <span class=\"score\" id=\"score_19418782\">30 points</span> by <a href=\"user?id=walterbell\" class=\"hnuser\">walterbell</a> <span class=\"age\"><a href=\"item?id=19418782\">5 hours ago</a></span> <span id=\"unv_19418782\"></span> | <a href=\"hide?id=19418782&amp;goto=news\">hide</a> | <a href=\"item?id=19418782\">4&nbsp;comments</a>              </td></tr>\n",
      "      <tr class=\"spacer\" style=\"height:5px\"></tr>\n",
      "                <tr class='athing' id='19413195'>\n",
      "      <td align=\"right\" valign=\"top\" class=\"title\"><span class=\"rank\">14.</span></td>      <td valign=\"top\" class=\"votelinks\"><center><a id='up_19413195' href='vote?id=19413195&amp;how=up&amp;goto=news'><div class='votearrow' title='upvote'></div></a></center></td><td class=\"title\"><a href=\"http://logipedia.inria.fr/\" class=\"storylink\" rel=\"nofollow\">Logipedia – Encyclopedia of Formal Proofs</a><span class=\"sitebit comhead\"> (<a href=\"from?site=inria.fr\"><span class=\"sitestr\">inria.fr</span></a>)</span></td></tr><tr><td colspan=\"2\"></td><td class=\"subtext\">\n",
      "        <span class=\"score\" id=\"score_19413195\">6 points</span> by <a href=\"user?id=lelf\" class=\"hnuser\">lelf</a> <span class=\"age\"><a href=\"item?id=19413195\">2 hours ago</a></span> <span id=\"unv_19413195\"></span> | <a href=\"hide?id=19413195&amp;goto=news\">hide</a> | <a href=\"item?id=19413195\">discuss</a>              </td></tr>\n",
      "      <tr class=\"spacer\" style=\"height:5px\"></tr>\n",
      "                <tr class='athing' id='19418863'>\n",
      "      <td align=\"right\" valign=\"top\" class=\"title\"><span class=\"rank\">15.</span></td>      <td valign=\"top\" class=\"votelinks\"><center><a id='up_19418863' href='vote?id=19418863&amp;how=up&amp;goto=news'><div class='votearrow' title='upvote'></div></a></center></td><td class=\"title\"><a href=\"https://mondaynote.com/musk-osborning-his-model-3-5e7c76fbaf8b\" class=\"storylink\">Musk: Osborning His Model 3</a><span class=\"sitebit comhead\"> (<a href=\"from?site=mondaynote.com\"><span class=\"sitestr\">mondaynote.com</span></a>)</span></td></tr><tr><td colspan=\"2\"></td><td class=\"subtext\">\n",
      "        <span class=\"score\" id=\"score_19418863\">22 points</span> by <a href=\"user?id=KKKKkkkk1\" class=\"hnuser\">KKKKkkkk1</a> <span class=\"age\"><a href=\"item?id=19418863\">4 hours ago</a></span> <span id=\"unv_19418863\"></span> | <a href=\"hide?id=19418863&amp;goto=news\">hide</a> | <a href=\"item?id=19418863\">23&nbsp;comments</a>              </td></tr>\n",
      "      <tr class=\"spacer\" style=\"height:5px\"></tr>\n",
      "                <tr class='athing' id='19415973'>\n",
      "      <td align=\"right\" valign=\"top\" class=\"title\"><span class=\"rank\">16.</span></td>      <td valign=\"top\" class=\"votelinks\"><center><a id='up_19415973' href='vote?id=19415973&amp;how=up&amp;goto=news'><div class='votearrow' title='upvote'></div></a></center></td><td class=\"title\"><a href=\"https://www.sapiens.org/body/human-teeth-evolution/\" class=\"storylink\">Why Are Human Teeth So Messed Up? (2017)</a><span class=\"sitebit comhead\"> (<a href=\"from?site=sapiens.org\"><span class=\"sitestr\">sapiens.org</span></a>)</span></td></tr><tr><td colspan=\"2\"></td><td class=\"subtext\">\n",
      "        <span class=\"score\" id=\"score_19415973\">282 points</span> by <a href=\"user?id=BerislavLopac\" class=\"hnuser\">BerislavLopac</a> <span class=\"age\"><a href=\"item?id=19415973\">14 hours ago</a></span> <span id=\"unv_19415973\"></span> | <a href=\"hide?id=19415973&amp;goto=news\">hide</a> | <a href=\"item?id=19415973\">186&nbsp;comments</a>              </td></tr>\n",
      "      <tr class=\"spacer\" style=\"height:5px\"></tr>\n",
      "                <tr class='athing' id='19417797'>\n",
      "      <td align=\"right\" valign=\"top\" class=\"title\"><span class=\"rank\">17.</span></td>      <td valign=\"top\" class=\"votelinks\"><center><a id='up_19417797' href='vote?id=19417797&amp;how=up&amp;goto=news'><div class='votearrow' title='upvote'></div></a></center></td><td class=\"title\"><a href=\"https://www.nationalgeographic.com/magazine/2019/04/to-build-cities-of-the-future-stop-driving-cars\" class=\"storylink\">To build the cities of the future, we must get out of our cars</a><span class=\"sitebit comhead\"> (<a href=\"from?site=nationalgeographic.com\"><span class=\"sitestr\">nationalgeographic.com</span></a>)</span></td></tr><tr><td colspan=\"2\"></td><td class=\"subtext\">\n",
      "        <span class=\"score\" id=\"score_19417797\">47 points</span> by <a href=\"user?id=jseliger\" class=\"hnuser\">jseliger</a> <span class=\"age\"><a href=\"item?id=19417797\">9 hours ago</a></span> <span id=\"unv_19417797\"></span> | <a href=\"hide?id=19417797&amp;goto=news\">hide</a> | <a href=\"item?id=19417797\">3&nbsp;comments</a>              </td></tr>\n",
      "      <tr class=\"spacer\" style=\"height:5px\"></tr>\n",
      "                <tr class='athing' id='19412084'>\n",
      "      <td align=\"right\" valign=\"top\" class=\"title\"><span class=\"rank\">18.</span></td>      <td valign=\"top\" class=\"votelinks\"><center><a id='up_19412084' href='vote?id=19412084&amp;how=up&amp;goto=news'><div class='votearrow' title='upvote'></div></a></center></td><td class=\"title\"><a href=\"https://fivethirtyeight.com/features/how-msg-got-a-bad-rap-flawed-science-and-xenophobia/\" class=\"storylink\">How MSG Got a Bad Rap (2016)</a><span class=\"sitebit comhead\"> (<a href=\"from?site=fivethirtyeight.com\"><span class=\"sitestr\">fivethirtyeight.com</span></a>)</span></td></tr><tr><td colspan=\"2\"></td><td class=\"subtext\">\n",
      "        <span class=\"score\" id=\"score_19412084\">51 points</span> by <a href=\"user?id=matt4077\" class=\"hnuser\">matt4077</a> <span class=\"age\"><a href=\"item?id=19412084\">8 hours ago</a></span> <span id=\"unv_19412084\"></span> | <a href=\"hide?id=19412084&amp;goto=news\">hide</a> | <a href=\"item?id=19412084\">59&nbsp;comments</a>              </td></tr>\n",
      "      <tr class=\"spacer\" style=\"height:5px\"></tr>\n",
      "                <tr class='athing' id='19418997'>\n",
      "      <td align=\"right\" valign=\"top\" class=\"title\"><span class=\"rank\">19.</span></td>      <td valign=\"top\" class=\"votelinks\"><center><a id='up_19418997' href='vote?id=19418997&amp;how=up&amp;goto=news'><div class='votearrow' title='upvote'></div></a></center></td><td class=\"title\"><a href=\"https://blog.acolyer.org/2019/03/18/datacenter-rpcs-can-be-general-and-fast/\" class=\"storylink\">Datacenter RPCs can be general and fast</a><span class=\"sitebit comhead\"> (<a href=\"from?site=acolyer.org\"><span class=\"sitestr\">acolyer.org</span></a>)</span></td></tr><tr><td colspan=\"2\"></td><td class=\"subtext\">\n",
      "        <span class=\"score\" id=\"score_19418997\">8 points</span> by <a href=\"user?id=feross\" class=\"hnuser\">feross</a> <span class=\"age\"><a href=\"item?id=19418997\">3 hours ago</a></span> <span id=\"unv_19418997\"></span> | <a href=\"hide?id=19418997&amp;goto=news\">hide</a> | <a href=\"item?id=19418997\">discuss</a>              </td></tr>\n",
      "      <tr class=\"spacer\" style=\"height:5px\"></tr>\n",
      "                <tr class='athing' id='19413436'>\n",
      "      <td align=\"right\" valign=\"top\" class=\"title\"><span class=\"rank\">20.</span></td>      <td valign=\"top\" class=\"votelinks\"><center><a id='up_19413436' href='vote?id=19413436&amp;how=up&amp;goto=news'><div class='votearrow' title='upvote'></div></a></center></td><td class=\"title\"><a href=\"https://geoff.greer.fm/2019/03/04/thinkpad-x210/\" class=\"storylink\">Thinkpad X210</a><span class=\"sitebit comhead\"> (<a href=\"from?site=greer.fm\"><span class=\"sitestr\">greer.fm</span></a>)</span></td></tr><tr><td colspan=\"2\"></td><td class=\"subtext\">\n",
      "        <span class=\"score\" id=\"score_19413436\">845 points</span> by <a href=\"user?id=MYEUHD\" class=\"hnuser\">MYEUHD</a> <span class=\"age\"><a href=\"item?id=19413436\">22 hours ago</a></span> <span id=\"unv_19413436\"></span> | <a href=\"hide?id=19413436&amp;goto=news\">hide</a> | <a href=\"item?id=19413436\">411&nbsp;comments</a>              </td></tr>\n",
      "      <tr class=\"spacer\" style=\"height:5px\"></tr>\n",
      "                <tr class='athing' id='19413454'>\n",
      "      <td align=\"right\" valign=\"top\" class=\"title\"><span class=\"rank\">21.</span></td>      <td valign=\"top\" class=\"votelinks\"><center><a id='up_19413454' href='vote?id=19413454&amp;how=up&amp;goto=news'><div class='votearrow' title='upvote'></div></a></center></td><td class=\"title\"><a href=\"https://rlgraph.github.io/rlgraph/2019/01/04/introducing-rlgraph.html\" class=\"storylink\">RLgraph: Robust, incrementally testable reinforcement learning</a><span class=\"sitebit comhead\"> (<a href=\"from?site=rlgraph.github.io\"><span class=\"sitestr\">rlgraph.github.io</span></a>)</span></td></tr><tr><td colspan=\"2\"></td><td class=\"subtext\">\n",
      "        <span class=\"score\" id=\"score_19413454\">50 points</span> by <a href=\"user?id=k_f\" class=\"hnuser\">k_f</a> <span class=\"age\"><a href=\"item?id=19413454\">12 hours ago</a></span> <span id=\"unv_19413454\"></span> | <a href=\"hide?id=19413454&amp;goto=news\">hide</a> | <a href=\"item?id=19413454\">1&nbsp;comment</a>              </td></tr>\n",
      "      <tr class=\"spacer\" style=\"height:5px\"></tr>\n",
      "                <tr class='athing' id='19418218'>\n",
      "      <td align=\"right\" valign=\"top\" class=\"title\"><span class=\"rank\">22.</span></td>      <td valign=\"top\" class=\"votelinks\"><center><a id='up_19418218' href='vote?id=19418218&amp;how=up&amp;goto=news'><div class='votearrow' title='upvote'></div></a></center></td><td class=\"title\"><a href=\"http://www.pixelegg.me/crossfont\" class=\"storylink\">Crossfont: Easy-to-use font editor for Mac</a><span class=\"sitebit comhead\"> (<a href=\"from?site=pixelegg.me\"><span class=\"sitestr\">pixelegg.me</span></a>)</span></td></tr><tr><td colspan=\"2\"></td><td class=\"subtext\">\n",
      "        <span class=\"score\" id=\"score_19418218\">23 points</span> by <a href=\"user?id=threcius\" class=\"hnuser\">threcius</a> <span class=\"age\"><a href=\"item?id=19418218\">7 hours ago</a></span> <span id=\"unv_19418218\"></span> | <a href=\"hide?id=19418218&amp;goto=news\">hide</a> | <a href=\"item?id=19418218\">1&nbsp;comment</a>              </td></tr>\n",
      "      <tr class=\"spacer\" style=\"height:5px\"></tr>\n",
      "                <tr class='athing' id='19417640'>\n",
      "      <td align=\"right\" valign=\"top\" class=\"title\"><span class=\"rank\">23.</span></td>      <td valign=\"top\" class=\"votelinks\"><center><a id='up_19417640' href='vote?id=19417640&amp;how=up&amp;goto=news'><div class='votearrow' title='upvote'></div></a></center></td><td class=\"title\"><a href=\"https://boingboing.net/2019/03/17/facebook-is-next.html\" class=\"storylink\">Myspace lost all the music its users uploaded between 2003 and 2015</a><span class=\"sitebit comhead\"> (<a href=\"from?site=boingboing.net\"><span class=\"sitestr\">boingboing.net</span></a>)</span></td></tr><tr><td colspan=\"2\"></td><td class=\"subtext\">\n",
      "        <span class=\"score\" id=\"score_19417640\">199 points</span> by <a href=\"user?id=pmoriarty\" class=\"hnuser\">pmoriarty</a> <span class=\"age\"><a href=\"item?id=19417640\">9 hours ago</a></span> <span id=\"unv_19417640\"></span> | <a href=\"hide?id=19417640&amp;goto=news\">hide</a> | <a href=\"item?id=19417640\">84&nbsp;comments</a>              </td></tr>\n",
      "      <tr class=\"spacer\" style=\"height:5px\"></tr>\n",
      "                <tr class='athing' id='19413469'>\n",
      "      <td align=\"right\" valign=\"top\" class=\"title\"><span class=\"rank\">24.</span></td>      <td valign=\"top\" class=\"votelinks\"><center><a id='up_19413469' href='vote?id=19413469&amp;how=up&amp;goto=news'><div class='votearrow' title='upvote'></div></a></center></td><td class=\"title\"><a href=\"https://www.wired.co.uk/article/avoid-facial-recognition-software\" class=\"storylink\">Hacking your face to dodge the rise of facial recognition tech</a><span class=\"sitebit comhead\"> (<a href=\"from?site=wired.co.uk\"><span class=\"sitestr\">wired.co.uk</span></a>)</span></td></tr><tr><td colspan=\"2\"></td><td class=\"subtext\">\n",
      "        <span class=\"score\" id=\"score_19413469\">60 points</span> by <a href=\"user?id=tosh\" class=\"hnuser\">tosh</a> <span class=\"age\"><a href=\"item?id=19413469\">6 hours ago</a></span> <span id=\"unv_19413469\"></span> | <a href=\"hide?id=19413469&amp;goto=news\">hide</a> | <a href=\"item?id=19413469\">22&nbsp;comments</a>              </td></tr>\n",
      "      <tr class=\"spacer\" style=\"height:5px\"></tr>\n",
      "                <tr class='athing' id='19413214'>\n",
      "      <td align=\"right\" valign=\"top\" class=\"title\"><span class=\"rank\">25.</span></td>      <td valign=\"top\" class=\"votelinks\"><center><a id='up_19413214' href='vote?id=19413214&amp;how=up&amp;goto=news'><div class='votearrow' title='upvote'></div></a></center></td><td class=\"title\"><a href=\"https://www.nationalgeographic.com/magazine/2019/04/rats-are-an-inescapable-part-of-city-life/\" class=\"storylink\">How rats became an inescapable part of city living</a><span class=\"sitebit comhead\"> (<a href=\"from?site=nationalgeographic.com\"><span class=\"sitestr\">nationalgeographic.com</span></a>)</span></td></tr><tr><td colspan=\"2\"></td><td class=\"subtext\">\n",
      "        <span class=\"score\" id=\"score_19413214\">26 points</span> by <a href=\"user?id=orcul\" class=\"hnuser\">orcul</a> <span class=\"age\"><a href=\"item?id=19413214\">7 hours ago</a></span> <span id=\"unv_19413214\"></span> | <a href=\"hide?id=19413214&amp;goto=news\">hide</a> | <a href=\"item?id=19413214\">12&nbsp;comments</a>              </td></tr>\n",
      "      <tr class=\"spacer\" style=\"height:5px\"></tr>\n",
      "                <tr class='athing' id='19416085'>\n",
      "      <td align=\"right\" valign=\"top\" class=\"title\"><span class=\"rank\">26.</span></td>      <td valign=\"top\" class=\"votelinks\"><center><a id='up_19416085' href='vote?id=19416085&amp;how=up&amp;goto=news'><div class='votearrow' title='upvote'></div></a></center></td><td class=\"title\"><a href=\"http://www.gurdjieff.org/rope.htm\" class=\"storylink\">Gurdjieff and the Women of ‘The Rope’ (1997)</a><span class=\"sitebit comhead\"> (<a href=\"from?site=gurdjieff.org\"><span class=\"sitestr\">gurdjieff.org</span></a>)</span></td></tr><tr><td colspan=\"2\"></td><td class=\"subtext\">\n",
      "        <span class=\"score\" id=\"score_19416085\">39 points</span> by <a href=\"user?id=acsillag\" class=\"hnuser\">acsillag</a> <span class=\"age\"><a href=\"item?id=19416085\">11 hours ago</a></span> <span id=\"unv_19416085\"></span> | <a href=\"hide?id=19416085&amp;goto=news\">hide</a> | <a href=\"item?id=19416085\">19&nbsp;comments</a>              </td></tr>\n",
      "      <tr class=\"spacer\" style=\"height:5px\"></tr>\n",
      "                <tr class='athing' id='19403540'>\n",
      "      <td align=\"right\" valign=\"top\" class=\"title\"><span class=\"rank\">27.</span></td>      <td valign=\"top\" class=\"votelinks\"><center><a id='up_19403540' href='vote?id=19403540&amp;how=up&amp;goto=news'><div class='votearrow' title='upvote'></div></a></center></td><td class=\"title\"><a href=\"http://www.slate.com/articles/technology/future_tense/2014/07/the_accumulibrary_modern_libraries_should_be_as_big_and_chaotic_as_amazon.html\" class=\"storylink\" rel=\"nofollow\">The Accumulibrary (2014)</a><span class=\"sitebit comhead\"> (<a href=\"from?site=slate.com\"><span class=\"sitestr\">slate.com</span></a>)</span></td></tr><tr><td colspan=\"2\"></td><td class=\"subtext\">\n",
      "        <span class=\"score\" id=\"score_19403540\">4 points</span> by <a href=\"user?id=Tomte\" class=\"hnuser\">Tomte</a> <span class=\"age\"><a href=\"item?id=19403540\">3 hours ago</a></span> <span id=\"unv_19403540\"></span> | <a href=\"hide?id=19403540&amp;goto=news\">hide</a> | <a href=\"item?id=19403540\">discuss</a>              </td></tr>\n",
      "      <tr class=\"spacer\" style=\"height:5px\"></tr>\n",
      "                <tr class='athing' id='19411485'>\n",
      "      <td align=\"right\" valign=\"top\" class=\"title\"><span class=\"rank\">28.</span></td>      <td valign=\"top\" class=\"votelinks\"><center><a id='up_19411485' href='vote?id=19411485&amp;how=up&amp;goto=news'><div class='votearrow' title='upvote'></div></a></center></td><td class=\"title\"><a href=\"https://www.bbc.com/news/world-europe-47582694\" class=\"storylink\">An entrepreneur has built a one-metre-long stretch of motorway in Romania</a><span class=\"sitebit comhead\"> (<a href=\"from?site=bbc.com\"><span class=\"sitestr\">bbc.com</span></a>)</span></td></tr><tr><td colspan=\"2\"></td><td class=\"subtext\">\n",
      "        <span class=\"score\" id=\"score_19411485\">260 points</span> by <a href=\"user?id=Happy4000\" class=\"hnuser\">Happy4000</a> <span class=\"age\"><a href=\"item?id=19411485\">15 hours ago</a></span> <span id=\"unv_19411485\"></span> | <a href=\"hide?id=19411485&amp;goto=news\">hide</a> | <a href=\"item?id=19411485\">122&nbsp;comments</a>              </td></tr>\n",
      "      <tr class=\"spacer\" style=\"height:5px\"></tr>\n",
      "                <tr class='athing' id='19413127'>\n",
      "      <td align=\"right\" valign=\"top\" class=\"title\"><span class=\"rank\">29.</span></td>      <td valign=\"top\" class=\"votelinks\"><center><a id='up_19413127' href='vote?id=19413127&amp;how=up&amp;goto=news'><div class='votearrow' title='upvote'></div></a></center></td><td class=\"title\"><a href=\"https://qz.com/299003/a-quick-history-of-why-asians-wear-surgical-masks-in-public/\" class=\"storylink\">Why Asians wear surgical masks in public (2014)</a><span class=\"sitebit comhead\"> (<a href=\"from?site=qz.com\"><span class=\"sitestr\">qz.com</span></a>)</span></td></tr><tr><td colspan=\"2\"></td><td class=\"subtext\">\n",
      "        <span class=\"score\" id=\"score_19413127\">57 points</span> by <a href=\"user?id=tosh\" class=\"hnuser\">tosh</a> <span class=\"age\"><a href=\"item?id=19413127\">9 hours ago</a></span> <span id=\"unv_19413127\"></span> | <a href=\"hide?id=19413127&amp;goto=news\">hide</a> | <a href=\"item?id=19413127\">48&nbsp;comments</a>              </td></tr>\n",
      "      <tr class=\"spacer\" style=\"height:5px\"></tr>\n",
      "                <tr class='athing' id='19416584'>\n",
      "      <td align=\"right\" valign=\"top\" class=\"title\"><span class=\"rank\">30.</span></td>      <td valign=\"top\" class=\"votelinks\"><center><a id='up_19416584' href='vote?id=19416584&amp;how=up&amp;goto=news'><div class='votearrow' title='upvote'></div></a></center></td><td class=\"title\"><a href=\"https://gist.github.com/skamille/78fcc0576a0db3e72c25ec0cf456f619\" class=\"storylink\">Questions on the Future of Open Source</a><span class=\"sitebit comhead\"> (<a href=\"from?site=gist.github.com\"><span class=\"sitestr\">gist.github.com</span></a>)</span></td></tr><tr><td colspan=\"2\"></td><td class=\"subtext\">\n",
      "        <span class=\"score\" id=\"score_19416584\">47 points</span> by <a href=\"user?id=diegopacheco\" class=\"hnuser\">diegopacheco</a> <span class=\"age\"><a href=\"item?id=19416584\">12 hours ago</a></span> <span id=\"unv_19416584\"></span> | <a href=\"hide?id=19416584&amp;goto=news\">hide</a> | <a href=\"item?id=19416584\">9&nbsp;comments</a>              </td></tr>\n",
      "      <tr class=\"spacer\" style=\"height:5px\"></tr>\n",
      "            <tr class=\"morespace\" style=\"height:10px\"></tr><tr><td colspan=\"2\"></td><td class=\"title\"><a href=\"news?p=2\" class=\"morelink\" rel=\"next\">More</a></td></tr>\n",
      "  </table>\n",
      "</td></tr>\n",
      "<tr><td><img src=\"s.gif\" height=\"10\" width=\"0\"><table width=\"100%\" cellspacing=\"0\" cellpadding=\"1\"><tr><td bgcolor=\"#ff6600\"></td></tr></table><br><center><a href=\"https://www.ycombinator.com/apply/\">\n",
      "        Applications are open for YC Summer 2019\n",
      "      </a></center><br><center><span class=\"yclinks\"><a href=\"newsguidelines.html\">Guidelines</a>\n",
      "        | <a href=\"newsfaq.html\">FAQ</a>\n",
      "        | <a href=\"mailto:hn@ycombinator.com\">Support</a>\n",
      "        | <a href=\"https://github.com/HackerNews/API\">API</a>\n",
      "        | <a href=\"security.html\">Security</a>\n",
      "        | <a href=\"lists\">Lists</a>\n",
      "        | <a href=\"bookmarklet.html\" rel=\"nofollow\">Bookmarklet</a>\n",
      "        | <a href=\"http://www.ycombinator.com/legal/\">Legal</a>\n",
      "        | <a href=\"http://www.ycombinator.com/apply/\">Apply to YC</a>\n",
      "        | <a href=\"mailto:hn@ycombinator.com\">Contact</a></span><br><br><form method=\"get\" action=\"//hn.algolia.com/\">Search:\n",
      "          <input type=\"text\" name=\"q\" value=\"\" size=\"17\" autocorrect=\"off\" spellcheck=\"false\" autocapitalize=\"off\" autocomplete=\"false\"></form>\n",
      "            </center></td></tr>\n",
      "      </table></center></body><script type='text/javascript' src='hn.js?wRwy7xNrRA8iSr8OOZLh'></script>\n",
      "  </html>\n",
      "\n"
     ]
    }
   ],
   "source": [
    "# cleaning\n",
    "import requests\n",
    "\n",
    "# Fetch a web page\n",
    "r = requests.get(\"https://news.ycombinator.com\")\n",
    "print(r.text)"
   ]
  },
  {
   "cell_type": "code",
   "execution_count": 10,
   "metadata": {},
   "outputs": [
    {
     "name": "stdout",
     "output_type": "stream",
     "text": [
      "\n",
      "            \n",
      "          \n",
      "        Hacker News\n",
      "        \n",
      "                  Hacker News\n",
      "              new | past | comments | ask | show | jobs | submit            \n",
      "                              login\n",
      "                          \n",
      "              \n",
      "\n",
      "              \n",
      "      1.      Air-breathing rocket engine set for key tests (bbc.co.uk)\n",
      "        53 points by sambeau 2 hours ago  | hide | 29&nbsp;comments              \n",
      "      \n",
      "                \n",
      "      2.      How to Live Without Google (2017) (spreadprivacy.com)\n",
      "        7 points by deathwarmedover 22 minutes ago  | hide | 1&nbsp;comment              \n",
      "      \n",
      "                \n",
      "      3.      Apache Jena (apache.org)\n",
      "        40 points by pplonski86 3 hours ago  | hide | 23&nbsp;comments              \n",
      "      \n",
      "                \n",
      "      4.      K7 Tutorial (nyu.edu)\n",
      "        92 points by chrispsn 6 hours ago  | hide | 23&nbsp;comments              \n",
      "      \n",
      "                \n",
      "      5.      Show HN: Applying Machine Learning to March Madness (github.com)\n",
      "        39 points by adeshpande3 5 hours ago  | hide | 4&nbsp;comments              \n",
      "      \n",
      "                \n",
      "      6.      Alan Kay on the Meaning of “Object-Oriented Programming” (2003) (purl.org)\n",
      "        315 points by tosh 14 hours ago  | hide | 225&nbsp;comments              \n",
      "      \n",
      "                \n",
      "      7.      US Department of Transportation Investigating FAA's Approval of 737 MAX (wsj.com)\n",
      "        45 points by mehrdadn 6 hours ago  | hide | 7&nbsp;comments              \n",
      "      \n",
      "                \n",
      "      8.      Matrix 1.0 – Are We Ready Yet? (matrix.org)\n",
      "        199 points by jaywink 12 hours ago  | hide | 76&nbsp;comments              \n",
      "      \n",
      "                \n",
      "      9.      Atlas observes light scattering off light (atlas.cern)\n",
      "        110 points by ars 10 hours ago  | hide | 17&nbsp;comments              \n",
      "      \n",
      "                \n",
      "      10.      The Unix-Haters Handbook (1994) [pdf] (mit.edu)\n",
      "        210 points by imran3740 13 hours ago  | hide | 95&nbsp;comments              \n",
      "      \n",
      "                \n",
      "      11.      Higher-Order Type-Level Programming in Haskell [pdf] (microsoft.com)\n",
      "        118 points by justinhj 11 hours ago  | hide | 11&nbsp;comments              \n",
      "      \n",
      "                \n",
      "      12.      Vim Anti-Patterns (2012) (sanctum.geek.nz)\n",
      "        299 points by lelf 14 hours ago  | hide | 172&nbsp;comments              \n",
      "      \n",
      "                \n",
      "      13.      Documenting your architecture: Wireshark, PlantUML and a REPL to glue them all (danlebrero.com)\n",
      "        30 points by walterbell 5 hours ago  | hide | 4&nbsp;comments              \n",
      "      \n",
      "                \n",
      "      14.      Logipedia – Encyclopedia of Formal Proofs (inria.fr)\n",
      "        6 points by lelf 2 hours ago  | hide | discuss              \n",
      "      \n",
      "                \n",
      "      15.      Musk: Osborning His Model 3 (mondaynote.com)\n",
      "        22 points by KKKKkkkk1 4 hours ago  | hide | 23&nbsp;comments              \n",
      "      \n",
      "                \n",
      "      16.      Why Are Human Teeth So Messed Up? (2017) (sapiens.org)\n",
      "        282 points by BerislavLopac 14 hours ago  | hide | 186&nbsp;comments              \n",
      "      \n",
      "                \n",
      "      17.      To build the cities of the future, we must get out of our cars (nationalgeographic.com)\n",
      "        47 points by jseliger 9 hours ago  | hide | 3&nbsp;comments              \n",
      "      \n",
      "                \n",
      "      18.      How MSG Got a Bad Rap (2016) (fivethirtyeight.com)\n",
      "        51 points by matt4077 8 hours ago  | hide | 59&nbsp;comments              \n",
      "      \n",
      "                \n",
      "      19.      Datacenter RPCs can be general and fast (acolyer.org)\n",
      "        8 points by feross 3 hours ago  | hide | discuss              \n",
      "      \n",
      "                \n",
      "      20.      Thinkpad X210 (greer.fm)\n",
      "        845 points by MYEUHD 22 hours ago  | hide | 411&nbsp;comments              \n",
      "      \n",
      "                \n",
      "      21.      RLgraph: Robust, incrementally testable reinforcement learning (rlgraph.github.io)\n",
      "        50 points by k_f 12 hours ago  | hide | 1&nbsp;comment              \n",
      "      \n",
      "                \n",
      "      22.      Crossfont: Easy-to-use font editor for Mac (pixelegg.me)\n",
      "        23 points by threcius 7 hours ago  | hide | 1&nbsp;comment              \n",
      "      \n",
      "                \n",
      "      23.      Myspace lost all the music its users uploaded between 2003 and 2015 (boingboing.net)\n",
      "        199 points by pmoriarty 9 hours ago  | hide | 84&nbsp;comments              \n",
      "      \n",
      "                \n",
      "      24.      Hacking your face to dodge the rise of facial recognition tech (wired.co.uk)\n",
      "        60 points by tosh 6 hours ago  | hide | 22&nbsp;comments              \n",
      "      \n",
      "                \n",
      "      25.      How rats became an inescapable part of city living (nationalgeographic.com)\n",
      "        26 points by orcul 7 hours ago  | hide | 12&nbsp;comments              \n",
      "      \n",
      "                \n",
      "      26.      Gurdjieff and the Women of ‘The Rope’ (1997) (gurdjieff.org)\n",
      "        39 points by acsillag 11 hours ago  | hide | 19&nbsp;comments              \n",
      "      \n",
      "                \n",
      "      27.      The Accumulibrary (2014) (slate.com)\n",
      "        4 points by Tomte 3 hours ago  | hide | discuss              \n",
      "      \n",
      "                \n",
      "      28.      An entrepreneur has built a one-metre-long stretch of motorway in Romania (bbc.com)\n",
      "        260 points by Happy4000 15 hours ago  | hide | 122&nbsp;comments              \n",
      "      \n",
      "                \n",
      "      29.      Why Asians wear surgical masks in public (2014) (qz.com)\n",
      "        57 points by tosh 9 hours ago  | hide | 48&nbsp;comments              \n",
      "      \n",
      "                \n",
      "      30.      Questions on the Future of Open Source (gist.github.com)\n",
      "        47 points by diegopacheco 12 hours ago  | hide | 9&nbsp;comments              \n",
      "      \n",
      "            More\n",
      "  \n",
      "\n",
      "\n",
      "        Applications are open for YC Summer 2019\n",
      "      Guidelines\n",
      "        | FAQ\n",
      "        | Support\n",
      "        | API\n",
      "        | Security\n",
      "        | Lists\n",
      "        | Bookmarklet\n",
      "        | Legal\n",
      "        | Apply to YC\n",
      "        | ContactSearch:\n",
      "          \n",
      "            \n",
      "      \n",
      "  \n",
      "\n"
     ]
    }
   ],
   "source": [
    "import re\n",
    "\n",
    "# Remove HTML tags using RegEx\n",
    "pattern = re.compile(r'<.*?>')  # tags look like <...>\n",
    "print(pattern.sub('', r.text))  # replace them with blank"
   ]
  },
  {
   "cell_type": "code",
   "execution_count": 11,
   "metadata": {},
   "outputs": [
    {
     "name": "stdout",
     "output_type": "stream",
     "text": [
      "\n",
      "            \n",
      "          \n",
      "        Hacker News\n",
      "        \n",
      "                  Hacker News\n",
      "              new | past | comments | ask | show | jobs | submit            \n",
      "                              login\n",
      "                          \n",
      "              \n",
      "\n",
      "              \n",
      "      1.      Air-breathing rocket engine set for key tests (bbc.co.uk)\n",
      "        53 points by sambeau 2 hours ago  | hide | 29 comments              \n",
      "      \n",
      "                \n",
      "      2.      How to Live Without Google (2017) (spreadprivacy.com)\n",
      "        7 points by deathwarmedover 22 minutes ago  | hide | 1 comment              \n",
      "      \n",
      "                \n",
      "      3.      Apache Jena (apache.org)\n",
      "        40 points by pplonski86 3 hours ago  | hide | 23 comments              \n",
      "      \n",
      "                \n",
      "      4.      K7 Tutorial (nyu.edu)\n",
      "        92 points by chrispsn 6 hours ago  | hide | 23 comments              \n",
      "      \n",
      "                \n",
      "      5.      Show HN: Applying Machine Learning to March Madness (github.com)\n",
      "        39 points by adeshpande3 5 hours ago  | hide | 4 comments              \n",
      "      \n",
      "                \n",
      "      6.      Alan Kay on the Meaning of “Object-Oriented Programming” (2003) (purl.org)\n",
      "        315 points by tosh 14 hours ago  | hide | 225 comments              \n",
      "      \n",
      "                \n",
      "      7.      US Department of Transportation Investigating FAA's Approval of 737 MAX (wsj.com)\n",
      "        45 points by mehrdadn 6 hours ago  | hide | 7 comments              \n",
      "      \n",
      "                \n",
      "      8.      Matrix 1.0 – Are We Ready Yet? (matrix.org)\n",
      "        199 points by jaywink 12 hours ago  | hide | 76 comments              \n",
      "      \n",
      "                \n",
      "      9.      Atlas observes light scattering off light (atlas.cern)\n",
      "        110 points by ars 10 hours ago  | hide | 17 comments              \n",
      "      \n",
      "                \n",
      "      10.      The Unix-Haters Handbook (1994) [pdf] (mit.edu)\n",
      "        210 points by imran3740 13 hours ago  | hide | 95 comments              \n",
      "      \n",
      "                \n",
      "      11.      Higher-Order Type-Level Programming in Haskell [pdf] (microsoft.com)\n",
      "        118 points by justinhj 11 hours ago  | hide | 11 comments              \n",
      "      \n",
      "                \n",
      "      12.      Vim Anti-Patterns (2012) (sanctum.geek.nz)\n",
      "        299 points by lelf 14 hours ago  | hide | 172 comments              \n",
      "      \n",
      "                \n",
      "      13.      Documenting your architecture: Wireshark, PlantUML and a REPL to glue them all (danlebrero.com)\n",
      "        30 points by walterbell 5 hours ago  | hide | 4 comments              \n",
      "      \n",
      "                \n",
      "      14.      Logipedia – Encyclopedia of Formal Proofs (inria.fr)\n",
      "        6 points by lelf 2 hours ago  | hide | discuss              \n",
      "      \n",
      "                \n",
      "      15.      Musk: Osborning His Model 3 (mondaynote.com)\n",
      "        22 points by KKKKkkkk1 4 hours ago  | hide | 23 comments              \n",
      "      \n",
      "                \n",
      "      16.      Why Are Human Teeth So Messed Up? (2017) (sapiens.org)\n",
      "        282 points by BerislavLopac 14 hours ago  | hide | 186 comments              \n",
      "      \n",
      "                \n",
      "      17.      To build the cities of the future, we must get out of our cars (nationalgeographic.com)\n",
      "        47 points by jseliger 9 hours ago  | hide | 3 comments              \n",
      "      \n",
      "                \n",
      "      18.      How MSG Got a Bad Rap (2016) (fivethirtyeight.com)\n",
      "        51 points by matt4077 8 hours ago  | hide | 59 comments              \n",
      "      \n",
      "                \n",
      "      19.      Datacenter RPCs can be general and fast (acolyer.org)\n",
      "        8 points by feross 3 hours ago  | hide | discuss              \n",
      "      \n",
      "                \n",
      "      20.      Thinkpad X210 (greer.fm)\n",
      "        845 points by MYEUHD 22 hours ago  | hide | 411 comments              \n",
      "      \n",
      "                \n",
      "      21.      RLgraph: Robust, incrementally testable reinforcement learning (rlgraph.github.io)\n",
      "        50 points by k_f 12 hours ago  | hide | 1 comment              \n",
      "      \n",
      "                \n",
      "      22.      Crossfont: Easy-to-use font editor for Mac (pixelegg.me)\n",
      "        23 points by threcius 7 hours ago  | hide | 1 comment              \n",
      "      \n",
      "                \n",
      "      23.      Myspace lost all the music its users uploaded between 2003 and 2015 (boingboing.net)\n",
      "        199 points by pmoriarty 9 hours ago  | hide | 84 comments              \n",
      "      \n",
      "                \n",
      "      24.      Hacking your face to dodge the rise of facial recognition tech (wired.co.uk)\n",
      "        60 points by tosh 6 hours ago  | hide | 22 comments              \n",
      "      \n",
      "                \n",
      "      25.      How rats became an inescapable part of city living (nationalgeographic.com)\n",
      "        26 points by orcul 7 hours ago  | hide | 12 comments              \n",
      "      \n",
      "                \n",
      "      26.      Gurdjieff and the Women of ‘The Rope’ (1997) (gurdjieff.org)\n",
      "        39 points by acsillag 11 hours ago  | hide | 19 comments              \n",
      "      \n",
      "                \n",
      "      27.      The Accumulibrary (2014) (slate.com)\n",
      "        4 points by Tomte 3 hours ago  | hide | discuss              \n",
      "      \n",
      "                \n",
      "      28.      An entrepreneur has built a one-metre-long stretch of motorway in Romania (bbc.com)\n",
      "        260 points by Happy4000 15 hours ago  | hide | 122 comments              \n",
      "      \n",
      "                \n",
      "      29.      Why Asians wear surgical masks in public (2014) (qz.com)\n",
      "        57 points by tosh 9 hours ago  | hide | 48 comments              \n",
      "      \n",
      "                \n",
      "      30.      Questions on the Future of Open Source (gist.github.com)\n",
      "        47 points by diegopacheco 12 hours ago  | hide | 9 comments              \n",
      "      \n",
      "            More\n",
      "  \n",
      "\n",
      "\n",
      "        Applications are open for YC Summer 2019\n",
      "      Guidelines\n",
      "        | FAQ\n",
      "        | Support\n",
      "        | API\n",
      "        | Security\n",
      "        | Lists\n",
      "        | Bookmarklet\n",
      "        | Legal\n",
      "        | Apply to YC\n",
      "        | ContactSearch:\n",
      "          \n",
      "            \n",
      "      \n",
      "  \n",
      "\n"
     ]
    }
   ],
   "source": [
    "from bs4 import BeautifulSoup\n",
    "\n",
    "# Remove HTML tags using Beautiful Soup library\n",
    "soup = BeautifulSoup(r.text, \"html5lib\")\n",
    "print(soup.get_text())"
   ]
  },
  {
   "cell_type": "code",
   "execution_count": 12,
   "metadata": {},
   "outputs": [
    {
     "data": {
      "text/plain": [
       "<tr class=\"athing\" id=\"19419279\">\n",
       "      <td align=\"right\" class=\"title\" valign=\"top\"><span class=\"rank\">1.</span></td>      <td class=\"votelinks\" valign=\"top\"><center><a href=\"vote?id=19419279&amp;how=up&amp;goto=news\" id=\"up_19419279\"><div class=\"votearrow\" title=\"upvote\"></div></a></center></td><td class=\"title\"><a class=\"storylink\" href=\"https://www.bbc.co.uk/news/science-environment-47585433\">Air-breathing rocket engine set for key tests</a><span class=\"sitebit comhead\"> (<a href=\"from?site=bbc.co.uk\"><span class=\"sitestr\">bbc.co.uk</span></a>)</span></td></tr>"
      ]
     },
     "execution_count": 12,
     "metadata": {},
     "output_type": "execute_result"
    }
   ],
   "source": [
    "# Find all articles\n",
    "summaries = soup.find_all(\"tr\", class_=\"athing\")\n",
    "summaries[0]"
   ]
  },
  {
   "cell_type": "code",
   "execution_count": 13,
   "metadata": {},
   "outputs": [
    {
     "data": {
      "text/plain": [
       "'Air-breathing rocket engine set for key tests'"
      ]
     },
     "execution_count": 13,
     "metadata": {},
     "output_type": "execute_result"
    }
   ],
   "source": [
    "# Extract title\n",
    "summaries[0].find(\"a\", class_=\"storylink\").get_text().strip()"
   ]
  },
  {
   "cell_type": "code",
   "execution_count": 14,
   "metadata": {},
   "outputs": [
    {
     "name": "stdout",
     "output_type": "stream",
     "text": [
      "30 Article summaries found. Sample:\n",
      "Air-breathing rocket engine set for key tests\n"
     ]
    }
   ],
   "source": [
    "# Find all articles, extract titles\n",
    "articles = []\n",
    "summaries = soup.find_all(\"tr\", class_=\"athing\")\n",
    "for summary in summaries:\n",
    "    title = summary.find(\"a\", class_=\"storylink\").get_text().strip()\n",
    "    articles.append((title))\n",
    "\n",
    "print(len(articles), \"Article summaries found. Sample:\")\n",
    "print(articles[0])"
   ]
  },
  {
   "cell_type": "code",
   "execution_count": 15,
   "metadata": {},
   "outputs": [
    {
     "name": "stdout",
     "output_type": "stream",
     "text": [
      "The first time you see The Second Renaissance it may look boring. Look at it at least twice and definitely watch part 2. It will change your view of the matrix. Are the human people the ones who started the war ? Is AI a bad thing ?\n"
     ]
    }
   ],
   "source": [
    "# Normalization\n",
    "\n",
    "# Sample text\n",
    "text = \"The first time you see The Second Renaissance it may look boring. Look at it at least twice and definitely watch part 2. It will change your view of the matrix. Are the human people the ones who started the war ? Is AI a bad thing ?\"\n",
    "print(text)"
   ]
  },
  {
   "cell_type": "code",
   "execution_count": 16,
   "metadata": {},
   "outputs": [
    {
     "name": "stdout",
     "output_type": "stream",
     "text": [
      "the first time you see the second renaissance it may look boring. look at it at least twice and definitely watch part 2. it will change your view of the matrix. are the human people the ones who started the war ? is ai a bad thing ?\n"
     ]
    }
   ],
   "source": [
    "# Convert to lowercase\n",
    "text = text.lower() \n",
    "print(text)"
   ]
  },
  {
   "cell_type": "code",
   "execution_count": 17,
   "metadata": {},
   "outputs": [
    {
     "name": "stdout",
     "output_type": "stream",
     "text": [
      "the first time you see the second renaissance it may look boring  look at it at least twice and definitely watch part 2  it will change your view of the matrix  are the human people the ones who started the war   is ai a bad thing  \n"
     ]
    }
   ],
   "source": [
    "# punctuation removal\n",
    "import re\n",
    "\n",
    "# Remove punctuation characters\n",
    "text = re.sub(r\"[^a-zA-Z0-9]\", \" \", text) \n",
    "print(text)"
   ]
  },
  {
   "cell_type": "code",
   "execution_count": 18,
   "metadata": {},
   "outputs": [
    {
     "name": "stdout",
     "output_type": "stream",
     "text": [
      "['the', 'first', 'time', 'you', 'see', 'the', 'second', 'renaissance', 'it', 'may', 'look', 'boring', 'look', 'at', 'it', 'at', 'least', 'twice', 'and', 'definitely', 'watch', 'part', '2', 'it', 'will', 'change', 'your', 'view', 'of', 'the', 'matrix', 'are', 'the', 'human', 'people', 'the', 'ones', 'who', 'started', 'the', 'war', 'is', 'ai', 'a', 'bad', 'thing']\n"
     ]
    }
   ],
   "source": [
    "# tokenization\n",
    "# Split text into tokens (words)\n",
    "words = text.split()\n",
    "print(words)"
   ]
  },
  {
   "cell_type": "code",
   "execution_count": 19,
   "metadata": {},
   "outputs": [],
   "source": [
    "# NLTK\n",
    "import os\n",
    "import nltk\n",
    "nltk.data.path.append(os.path.join(os.getcwd(), \"nltk_data\"))"
   ]
  },
  {
   "cell_type": "code",
   "execution_count": 20,
   "metadata": {},
   "outputs": [
    {
     "name": "stdout",
     "output_type": "stream",
     "text": [
      "Dr. Smith graduated from the University of Washington. He later started an analytics firm called Lux, which catered to enterprise customers.\n"
     ]
    }
   ],
   "source": [
    "# Another sample text\n",
    "text = \"Dr. Smith graduated from the University of Washington. He later started an analytics firm called Lux, which catered to enterprise customers.\"\n",
    "print(text)"
   ]
  },
  {
   "cell_type": "code",
   "execution_count": 21,
   "metadata": {},
   "outputs": [
    {
     "name": "stdout",
     "output_type": "stream",
     "text": [
      "['Dr.', 'Smith', 'graduated', 'from', 'the', 'University', 'of', 'Washington', '.', 'He', 'later', 'started', 'an', 'analytics', 'firm', 'called', 'Lux', ',', 'which', 'catered', 'to', 'enterprise', 'customers', '.']\n"
     ]
    }
   ],
   "source": [
    "from nltk.tokenize import word_tokenize\n",
    "\n",
    "# Split text into words using NLTK\n",
    "words = word_tokenize(text)\n",
    "print(words)"
   ]
  },
  {
   "cell_type": "code",
   "execution_count": 22,
   "metadata": {},
   "outputs": [
    {
     "name": "stdout",
     "output_type": "stream",
     "text": [
      "['Dr. Smith graduated from the University of Washington.', 'He later started an analytics firm called Lux, which catered to enterprise customers.']\n"
     ]
    }
   ],
   "source": [
    "from nltk.tokenize import sent_tokenize\n",
    "\n",
    "# Split text into sentences\n",
    "sentences = sent_tokenize(text)\n",
    "print(sentences)"
   ]
  },
  {
   "cell_type": "code",
   "execution_count": 23,
   "metadata": {},
   "outputs": [
    {
     "name": "stdout",
     "output_type": "stream",
     "text": [
      "['i', 'me', 'my', 'myself', 'we', 'our', 'ours', 'ourselves', 'you', \"you're\", \"you've\", \"you'll\", \"you'd\", 'your', 'yours', 'yourself', 'yourselves', 'he', 'him', 'his', 'himself', 'she', \"she's\", 'her', 'hers', 'herself', 'it', \"it's\", 'its', 'itself', 'they', 'them', 'their', 'theirs', 'themselves', 'what', 'which', 'who', 'whom', 'this', 'that', \"that'll\", 'these', 'those', 'am', 'is', 'are', 'was', 'were', 'be', 'been', 'being', 'have', 'has', 'had', 'having', 'do', 'does', 'did', 'doing', 'a', 'an', 'the', 'and', 'but', 'if', 'or', 'because', 'as', 'until', 'while', 'of', 'at', 'by', 'for', 'with', 'about', 'against', 'between', 'into', 'through', 'during', 'before', 'after', 'above', 'below', 'to', 'from', 'up', 'down', 'in', 'out', 'on', 'off', 'over', 'under', 'again', 'further', 'then', 'once', 'here', 'there', 'when', 'where', 'why', 'how', 'all', 'any', 'both', 'each', 'few', 'more', 'most', 'other', 'some', 'such', 'no', 'nor', 'not', 'only', 'own', 'same', 'so', 'than', 'too', 'very', 's', 't', 'can', 'will', 'just', 'don', \"don't\", 'should', \"should've\", 'now', 'd', 'll', 'm', 'o', 're', 've', 'y', 'ain', 'aren', \"aren't\", 'couldn', \"couldn't\", 'didn', \"didn't\", 'doesn', \"doesn't\", 'hadn', \"hadn't\", 'hasn', \"hasn't\", 'haven', \"haven't\", 'isn', \"isn't\", 'ma', 'mightn', \"mightn't\", 'mustn', \"mustn't\", 'needn', \"needn't\", 'shan', \"shan't\", 'shouldn', \"shouldn't\", 'wasn', \"wasn't\", 'weren', \"weren't\", 'won', \"won't\", 'wouldn', \"wouldn't\"]\n"
     ]
    }
   ],
   "source": [
    "# List stop words\n",
    "from nltk.corpus import stopwords\n",
    "print(stopwords.words(\"english\"))"
   ]
  },
  {
   "cell_type": "code",
   "execution_count": 24,
   "metadata": {},
   "outputs": [
    {
     "name": "stdout",
     "output_type": "stream",
     "text": [
      "['the', 'first', 'time', 'you', 'see', 'the', 'second', 'renaissance', 'it', 'may', 'look', 'boring', 'look', 'at', 'it', 'at', 'least', 'twice', 'and', 'definitely', 'watch', 'part', '2', 'it', 'will', 'change', 'your', 'view', 'of', 'the', 'matrix', 'are', 'the', 'human', 'people', 'the', 'ones', 'who', 'started', 'the', 'war', 'is', 'ai', 'a', 'bad', 'thing']\n"
     ]
    }
   ],
   "source": [
    "# Reset text\n",
    "text = \"The first time you see The Second Renaissance it may look boring. Look at it at least twice and definitely watch part 2. It will change your view of the matrix. Are the human people the ones who started the war ? Is AI a bad thing ?\"\n",
    "\n",
    "# Normalize it\n",
    "text = re.sub(r\"[^a-zA-Z0-9]\", \" \", text.lower())\n",
    "\n",
    "# Tokenize it\n",
    "words = text.split()\n",
    "print(words)"
   ]
  },
  {
   "cell_type": "code",
   "execution_count": 25,
   "metadata": {},
   "outputs": [
    {
     "name": "stdout",
     "output_type": "stream",
     "text": [
      "['first', 'time', 'see', 'second', 'renaissance', 'may', 'look', 'boring', 'look', 'least', 'twice', 'definitely', 'watch', 'part', '2', 'change', 'view', 'matrix', 'human', 'people', 'ones', 'started', 'war', 'ai', 'bad', 'thing']\n"
     ]
    }
   ],
   "source": [
    "# Remove stop words\n",
    "words = [w for w in words if w not in stopwords.words(\"english\")]\n",
    "print(words)"
   ]
  },
  {
   "cell_type": "code",
   "execution_count": 26,
   "metadata": {},
   "outputs": [
    {
     "name": "stdout",
     "output_type": "stream",
     "text": [
      "(S\n",
      "  (NP I)\n",
      "  (VP\n",
      "    (VP (V shot) (NP (Det an) (N elephant)))\n",
      "    (PP (P in) (NP (Det my) (N pajamas)))))\n",
      "(S\n",
      "  (NP I)\n",
      "  (VP\n",
      "    (V shot)\n",
      "    (NP (Det an) (N elephant) (PP (P in) (NP (Det my) (N pajamas))))))\n"
     ]
    }
   ],
   "source": [
    "import nltk\n",
    "\n",
    "# Define a custom grammar\n",
    "my_grammar = nltk.CFG.fromstring(\"\"\"\n",
    "S -> NP VP\n",
    "PP -> P NP\n",
    "NP -> Det N | Det N PP | 'I'\n",
    "VP -> V NP | VP PP\n",
    "Det -> 'an' | 'my'\n",
    "N -> 'elephant' | 'pajamas'\n",
    "V -> 'shot'\n",
    "P -> 'in'\n",
    "\"\"\")\n",
    "parser = nltk.ChartParser(my_grammar)\n",
    "\n",
    "# Parse a sentence\n",
    "sentence = word_tokenize(\"I shot an elephant in my pajamas\")\n",
    "for tree in parser.parse(sentence):\n",
    "    print(tree)"
   ]
  },
  {
   "cell_type": "code",
   "execution_count": 27,
   "metadata": {},
   "outputs": [
    {
     "name": "stdout",
     "output_type": "stream",
     "text": [
      "['first', 'time', 'see', 'second', 'renaiss', 'may', 'look', 'bore', 'look', 'least', 'twice', 'definit', 'watch', 'part', '2', 'chang', 'view', 'matrix', 'human', 'peopl', 'one', 'start', 'war', 'ai', 'bad', 'thing']\n"
     ]
    }
   ],
   "source": [
    "# stem & lem\n",
    "from nltk.stem.porter import PorterStemmer\n",
    "\n",
    "# Reduce words to their stems\n",
    "stemmed = [PorterStemmer().stem(w) for w in words]\n",
    "print(stemmed)"
   ]
  },
  {
   "cell_type": "code",
   "execution_count": 28,
   "metadata": {},
   "outputs": [
    {
     "name": "stdout",
     "output_type": "stream",
     "text": [
      "['first', 'time', 'see', 'second', 'renaissance', 'may', 'look', 'boring', 'look', 'least', 'twice', 'definitely', 'watch', 'part', '2', 'change', 'view', 'matrix', 'human', 'people', 'one', 'started', 'war', 'ai', 'bad', 'thing']\n"
     ]
    }
   ],
   "source": [
    "# lem\n",
    "\n",
    "from nltk.stem.wordnet import WordNetLemmatizer\n",
    "\n",
    "# Reduce words to their root form\n",
    "lemmed = [WordNetLemmatizer().lemmatize(w) for w in words]\n",
    "print(lemmed)"
   ]
  },
  {
   "cell_type": "code",
   "execution_count": 29,
   "metadata": {},
   "outputs": [
    {
     "name": "stdout",
     "output_type": "stream",
     "text": [
      "['first', 'time', 'see', 'second', 'renaissance', 'may', 'look', 'bore', 'look', 'least', 'twice', 'definitely', 'watch', 'part', '2', 'change', 'view', 'matrix', 'human', 'people', 'one', 'start', 'war', 'ai', 'bad', 'thing']\n"
     ]
    }
   ],
   "source": [
    "# Lemmatize verbs by specifying pos\n",
    "lemmed = [WordNetLemmatizer().lemmatize(w, pos='v') for w in lemmed]\n",
    "print(lemmed)"
   ]
  },
  {
   "cell_type": "code",
   "execution_count": null,
   "metadata": {},
   "outputs": [],
   "source": []
  }
 ],
 "metadata": {
  "kernelspec": {
   "display_name": "Python 3",
   "language": "python",
   "name": "python3"
  },
  "language_info": {
   "codemirror_mode": {
    "name": "ipython",
    "version": 3
   },
   "file_extension": ".py",
   "mimetype": "text/x-python",
   "name": "python",
   "nbconvert_exporter": "python",
   "pygments_lexer": "ipython3",
   "version": "3.6.5"
  }
 },
 "nbformat": 4,
 "nbformat_minor": 2
}
